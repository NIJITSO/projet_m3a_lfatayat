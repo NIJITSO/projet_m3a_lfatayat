{
 "cells": [
  {
   "cell_type": "code",
   "execution_count": 6,
   "id": "0a91033d",
   "metadata": {},
   "outputs": [],
   "source": [
    "from tensorflow.keras.models import load_model\n",
    "import joblib\n",
    "import numpy as np\n",
    "import re\n",
    "\n",
    "# Preprocess the input text\n",
    "def preprocess_text(text):\n",
    "    text = text.lower()\n",
    "    text = re.sub(r'[^a-z0-9\\s]', '', text)\n",
    "    return text\n",
    "\n",
    "# Load the model, vectorizer, and label mapping\n",
    "model = load_model(\"medical_specialty_model.keras\")\n",
    "vectorizer = joblib.load(\"vectorizer.pkl\")\n",
    "index_to_specialty = joblib.load(\"index_to_specialty.pkl\")\n",
    "\n",
    "# Prediction function\n",
    "def predict_specialty(text_input):\n",
    "    processed_text = preprocess_text(text_input)\n",
    "    processed_vector = vectorizer.transform([processed_text]).toarray()\n",
    "    prediction = model.predict(processed_vector)\n",
    "    predicted_index = np.argmax(prediction)\n",
    "    predicted_specialty = index_to_specialty[predicted_index]\n",
    "    confidence = prediction[0][predicted_index]\n",
    "    \n",
    "    print(f\"\\n🩺 Predicted Specialty: {predicted_specialty}\")\n",
    "    print(f\"🔮 Confidence: {confidence:.4f}\")\n",
    "    return predicted_specialty, confidence\n"
   ]
  },
  {
   "cell_type": "code",
   "execution_count": 7,
   "id": "032bd8df",
   "metadata": {},
   "outputs": [
    {
     "name": "stdout",
     "output_type": "stream",
     "text": [
      "\u001b[1m1/1\u001b[0m \u001b[32m━━━━━━━━━━━━━━━━━━━━\u001b[0m\u001b[37m\u001b[0m \u001b[1m1s\u001b[0m 518ms/step\n",
      "\n",
      "🩺 Predicted Specialty: gastroenterology\n",
      "🔮 Confidence: 0.8812\n"
     ]
    },
    {
     "data": {
      "text/plain": [
       "('gastroenterology', 0.8812083)"
      ]
     },
     "execution_count": 7,
     "metadata": {},
     "output_type": "execute_result"
    }
   ],
   "source": [
    "sample_text = \"A 50-year-old female whose 51-year-old sister has a history of multiple colon polyps, which may slightly increase her risk for colon cancer in the future.\"\n",
    "predict_specialty(sample_text)"
   ]
  }
 ],
 "metadata": {
  "kernelspec": {
   "display_name": "base",
   "language": "python",
   "name": "python3"
  },
  "language_info": {
   "codemirror_mode": {
    "name": "ipython",
    "version": 3
   },
   "file_extension": ".py",
   "mimetype": "text/x-python",
   "name": "python",
   "nbconvert_exporter": "python",
   "pygments_lexer": "ipython3",
   "version": "3.12.4"
  }
 },
 "nbformat": 4,
 "nbformat_minor": 5
}
